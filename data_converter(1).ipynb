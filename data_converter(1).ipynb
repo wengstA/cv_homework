{
 "cells": [
  {
   "cell_type": "code",
   "execution_count": 3,
   "id": "initial_id",
   "metadata": {
    "collapsed": true,
    "ExecuteTime": {
     "end_time": "2024-03-03T07:16:33.563061700Z",
     "start_time": "2024-03-03T07:16:33.548410300Z"
    }
   },
   "outputs": [],
   "source": [
    "import json\n",
    "import shutil\n",
    "import xml.etree.ElementTree as ET\n",
    "from pathlib import Path\n",
    "import os"
   ]
  },
  {
   "cell_type": "code",
   "execution_count": 9,
   "outputs": [
    {
     "name": "stdout",
     "output_type": "stream",
     "text": [
      "True\n"
     ]
    }
   ],
   "source": [
    "# Load COCO categories\n",
    "coco_categories_path = 'coco/annotations/instances_train2014.json'\n",
    "print(os.path.exists(coco_categories_path))\n",
    "with open(coco_categories_path) as f:\n",
    "    coco_data = json.load(f)"
   ],
   "metadata": {
    "collapsed": false,
    "ExecuteTime": {
     "end_time": "2024-03-03T07:20:31.743953100Z",
     "start_time": "2024-03-03T07:20:24.676044Z"
    }
   },
   "id": "19192e9f434080c8"
  },
  {
   "cell_type": "code",
   "execution_count": 48,
   "outputs": [
    {
     "name": "stdout",
     "output_type": "stream",
     "text": [
      "{'supercategory': 'person', 'id': 1, 'name': 'person'}\n"
     ]
    }
   ],
   "source": [
    "coco_categories = coco_data['categories'] \n",
    "type(coco_categories)\n",
    "print(coco_categories[0])\n",
    "# get categories names by id: coco_categories[id]['name']"
   ],
   "metadata": {
    "collapsed": false,
    "ExecuteTime": {
     "end_time": "2024-03-03T18:33:48.498654700Z",
     "start_time": "2024-03-03T18:33:47.970858Z"
    }
   },
   "id": "a7c40552b91f7581"
  },
  {
   "cell_type": "code",
   "execution_count": 171,
   "outputs": [
    {
     "data": {
      "text/plain": "20"
     },
     "execution_count": 171,
     "metadata": {},
     "output_type": "execute_result"
    }
   ],
   "source": [
    "common_categories=[\n",
    "    'aeroplane', 'bicycle', 'bird', 'boat', 'bottle', 'bus', 'car','elephant',\n",
    "    'chair', 'cow', 'diningtable', 'dog', 'horse', 'motorbike', 'person',\n",
    "    'pottedplant', 'sheep', 'sofa', 'train', 'tvmonitor'\n",
    "]\n",
    "len(common_categories)"
   ],
   "metadata": {
    "collapsed": false,
    "ExecuteTime": {
     "end_time": "2024-03-05T13:59:18.488777400Z",
     "start_time": "2024-03-05T13:59:18.479077200Z"
    }
   },
   "id": "fabb5f973c7c3b69"
  },
  {
   "cell_type": "code",
   "execution_count": 77,
   "outputs": [],
   "source": [
    "# Identify all images containing elephants\n",
    "annotations = []\n",
    "elephant_images_coco = set()\n",
    "elephant_id = next((category['id'] for category in coco_data['categories'] if category['name'] == 'elephant'), None) # would be 22\n",
    "if elephant_id is not None:\n",
    "    for annotation in coco_data['annotations']:\n",
    "        if annotation['category_id'] == elephant_id:\n",
    "            annotations.append(annotation)"
   ],
   "metadata": {
    "collapsed": false,
    "ExecuteTime": {
     "end_time": "2024-03-04T03:26:27.168741100Z",
     "start_time": "2024-03-04T03:26:27.117552400Z"
    }
   },
   "id": "b4ced01b75faa065"
  },
  {
   "cell_type": "code",
   "execution_count": 93,
   "outputs": [],
   "source": [
    "# annotations = coco_data['annotations']\n",
    "images = coco_data['images']\n",
    "categories = coco_data['categories']\n",
    "merged_data_corrected = []\n",
    "\n",
    "for annotation in annotations:\n",
    "    if annotation['category_id'] != elephant_id:\n",
    "        print(annotation)\n",
    "    # 使用annotation中的image_id在images列表中找到对应的条目\n",
    "    image = next((item for item in images if item['id'] == annotation['image_id']), None)\n",
    "    category = next((item for item in categories if item['id'] == annotation['category_id']), None)\n",
    "    # 如果找到了对应的条目，则合并信息\n",
    "    if image:\n",
    "        merged_dict = {**image, **annotation, **category}  # 合并字典，注意去掉重复的'image_id'\n",
    "        # 移除重复的'image_id'字段\n",
    "        if 'image_id' in merged_dict:\n",
    "            merged_dict.pop('image_id')\n",
    "        merged_data_corrected.append(merged_dict)"
   ],
   "metadata": {
    "collapsed": false
   },
   "id": "976fff83edd7b740"
  },
  {
   "cell_type": "code",
   "execution_count": 172,
   "outputs": [],
   "source": [
    "from pycocotools.coco import COCO\n",
    "from pascal_voc_writer import Writer\n",
    "import argparse\n",
    "import os\n",
    "\n",
    "\n",
    "def coco2voc(ann_file, output_dir):\n",
    "    coco = COCO(ann_file)\n",
    "    cats = coco.loadCats(coco.getCatIds())\n",
    "    cat_idx = {}\n",
    "    for c in cats:\n",
    "        cat_idx[c['id']] = c['name']\n",
    "    for img in coco.imgs:\n",
    "        catIds = coco.getCatIds()\n",
    "        annIds = coco.getAnnIds(imgIds=[img], catIds=catIds)\n",
    "        if len(annIds) > 0:\n",
    "            img_fname = coco.imgs[img]['file_name']\n",
    "            image_fname_ls = img_fname.split('.')\n",
    "            image_fname_ls[-1] = 'xml'\n",
    "            label_fname = '.'.join(image_fname_ls)\n",
    "            writer = Writer(img_fname, coco.imgs[img]['width'], coco.imgs[img]['height'])\n",
    "            anns = coco.loadAnns(annIds)\n",
    "            categories = []\n",
    "            for ann in anns:\n",
    "                catname = cat_idx[ann['category_id']]\n",
    "                categories.append(catname)\n",
    "            if 'elephant' in categories:\n",
    "                for a in anns:\n",
    "                    bbox = a['bbox']\n",
    "                    bbox = [bbox[0], bbox[1], bbox[2] + bbox[0], bbox[3] + bbox[1]]\n",
    "                    bbox = [str(b) for b in bbox]\n",
    "                    catname = cat_idx[a['category_id']]\n",
    "                    catname = catname.replace(' ','')\n",
    "                    if catname in common_categories:\n",
    "                        # if catname == 'elephant':\n",
    "                            # print(img_fname)\n",
    "                        writer.addObject(catname, bbox[0], bbox[1], bbox[2], bbox[3])\n",
    "                        writer.save(output_dir+'/'+label_fname)"
   ],
   "metadata": {
    "collapsed": false,
    "ExecuteTime": {
     "end_time": "2024-03-05T13:59:28.690375800Z",
     "start_time": "2024-03-05T13:59:28.687302900Z"
    }
   },
   "id": "8f01db7c8db32ed4"
  },
  {
   "cell_type": "code",
   "execution_count": 174,
   "outputs": [
    {
     "name": "stdout",
     "output_type": "stream",
     "text": [
      "loading annotations into memory...\n",
      "Done (t=8.82s)\n",
      "creating index...\n",
      "index created!\n"
     ]
    }
   ],
   "source": [
    "val_path = 'coco/annotations/instances_train2014.json'\n",
    "coco2voc(val_path, output_dir='val_coco_voc')"
   ],
   "metadata": {
    "collapsed": false,
    "ExecuteTime": {
     "end_time": "2024-03-05T14:03:39.581451Z",
     "start_time": "2024-03-05T14:01:18.148743900Z"
    }
   },
   "id": "ae62d33fabd5108b"
  },
  {
   "cell_type": "code",
   "execution_count": 175,
   "outputs": [],
   "source": [
    "# remove <path> tag in coco_voc xml\n",
    "def remove_path_element(xml_file):\n",
    "    tree = ET.parse(xml_file)\n",
    "    root = tree.getroot()\n",
    "    for path in root.findall('path'):\n",
    "        root.remove(path)\n",
    "    tree.write(xml_file)\n",
    "\n",
    "remove_dir = 'val_coco_voc'\n",
    "for file in os.listdir(remove_dir):\n",
    "    remove_path_element(os.path.join(remove_dir, file))"
   ],
   "metadata": {
    "collapsed": false,
    "ExecuteTime": {
     "end_time": "2024-03-05T14:06:08.026142300Z",
     "start_time": "2024-03-05T14:06:06.792804600Z"
    }
   },
   "id": "eaabac5c9fc5b077"
  },
  {
   "cell_type": "code",
   "execution_count": 13,
   "outputs": [
    {
     "name": "stdout",
     "output_type": "stream",
     "text": [
      "True\n"
     ]
    }
   ],
   "source": [
    "## remove cat class in VOC\n",
    "voc_annotations_dir = Path('VOCdevkit/VOC2007/Annotations')\n",
    "print(os.path.exists(voc_annotations_dir))\n",
    "\n",
    "for xml_file in voc_annotations_dir.glob('*.xml'):\n",
    "    tree = ET.parse(xml_file)\n",
    "    root = tree.getroot()\n",
    "    filename = root.find('filename').text\n",
    "    # Assuming COCO and VOC filenames can be correlated or mapped somehow\n",
    "    # This part of the code might need to be adjusted based on your filename mapping strategy\n",
    "\n",
    "    for object_tag in root.findall('object'):\n",
    "        voc_category = object_tag.find('name').text\n",
    "        if voc_category == 'cat':\n",
    "            # Remove 'cat' instances, or replace them based on your specific logic\n",
    "            root.remove(object_tag)\n",
    "             # Implement additional logic here if you need to handle other categories based on overlap rules\n",
    "    \n",
    "    # Save the modified XML back to file\n",
    "    tree.write(xml_file)"
   ],
   "metadata": {
    "collapsed": false,
    "ExecuteTime": {
     "end_time": "2024-03-03T07:41:59.035607400Z",
     "start_time": "2024-03-03T07:41:54.986826600Z"
    }
   },
   "id": "459bfff39bff5a90"
  },
  {
   "cell_type": "code",
   "execution_count": 177,
   "outputs": [],
   "source": [
    "import shutil\n",
    "\n",
    "data_root = 'coco/train2014'\n",
    "find_dir = 'val_coco_voc'\n",
    "img_root = 'coco/train2014'\n",
    "target_dir = 'VOCdevkit/VOC2007/JPEGImages'\n",
    "\n",
    "failed_files = []\n",
    "for file in os.listdir(find_dir):\n",
    "    if file.endswith('.xml'):\n",
    "        file_name = file.split('.')[0]+'.jpg'\n",
    "        img_pth = os.path.join(img_root, file_name)\n",
    "        if os.path.exists(img_pth):\n",
    "            # copy file to target dir\n",
    "            shutil.copy(img_pth, target_dir)\n",
    "        else:\n",
    "            failed_files.append('{}.jpg'.format(file_name))"
   ],
   "metadata": {
    "collapsed": false,
    "ExecuteTime": {
     "end_time": "2024-03-05T14:08:05.542856Z",
     "start_time": "2024-03-05T14:08:03.480584300Z"
    }
   },
   "id": "4ba0da7f0ee94e98"
  },
  {
   "cell_type": "code",
   "execution_count": 178,
   "outputs": [],
   "source": [],
   "metadata": {
    "collapsed": false,
    "ExecuteTime": {
     "end_time": "2024-03-05T14:08:14.008131100Z",
     "start_time": "2024-03-05T14:08:14.002016600Z"
    }
   },
   "id": "98b30cf9e06eb713"
  },
  {
   "cell_type": "code",
   "execution_count": 182,
   "outputs": [],
   "source": [
    "# prepare the mainfest files\n",
    "import os\n",
    "import random\n",
    "\n",
    "# 假设所有的JPEG图像都存放在此目录下\n",
    "image_dir = 'VOCdevkit/VOC2007/JPEGImages'\n",
    "image_files = [os.path.splitext(f)[0] for f in os.listdir(image_dir) if f.endswith('.jpg')]\n",
    "\n",
    "# 划分比例\n",
    "train_ratio = 0.7\n",
    "val_ratio = 0.2\n",
    "test_ratio = 0.1\n",
    "# 剩余的用于测试\n",
    "\n",
    "# 随机打乱图像文件名\n",
    "random.shuffle(image_files)\n",
    "\n",
    "# 划分训练、验证和测试集\n",
    "num_images = len(image_files)\n",
    "num_train_val = int(num_images * (train_ratio+val_ratio))\n",
    "\n",
    "train_val_files = image_files[:num_train_val]\n",
    "test_files = image_files[num_train_val:]"
   ],
   "metadata": {
    "collapsed": false,
    "ExecuteTime": {
     "end_time": "2024-03-05T14:08:30.106218900Z",
     "start_time": "2024-03-05T14:08:30.079812Z"
    }
   },
   "id": "24bb420ef1d7e42e"
  },
  {
   "cell_type": "code",
   "execution_count": 183,
   "outputs": [],
   "source": [
    "# ImageSets/Main目录,并且把对应的文件放进去\n",
    "image_sets_path = 'VOCdevkit/VOC2007/ImageSets/Main'\n",
    "os.makedirs(image_sets_path, exist_ok=True)\n",
    "\n",
    "# 写入train.txt, val.txt, test.txt\n",
    "for split_name, split_files in zip(['trainval', 'test'], [train_val_files, test_files]):\n",
    "    with open(os.path.join(image_sets_path, f'{split_name}_voc_coco.txt'), 'w') as file:\n",
    "        for filename in split_files:\n",
    "            file.write(f\"{filename}\\n\")"
   ],
   "metadata": {
    "collapsed": false,
    "ExecuteTime": {
     "end_time": "2024-03-05T14:08:32.808111400Z",
     "start_time": "2024-03-05T14:08:32.790646500Z"
    }
   },
   "id": "3a4ad300b34960a5"
  },
  {
   "cell_type": "code",
   "execution_count": 184,
   "outputs": [
    {
     "data": {
      "text/plain": "1220"
     },
     "execution_count": 184,
     "metadata": {},
     "output_type": "execute_result"
    }
   ],
   "source": [
    "len(test_files)"
   ],
   "metadata": {
    "collapsed": false,
    "ExecuteTime": {
     "end_time": "2024-03-05T14:08:35.800984Z",
     "start_time": "2024-03-05T14:08:35.220896900Z"
    }
   },
   "id": "89123e66587fdbc2"
  }
 ],
 "metadata": {
  "kernelspec": {
   "display_name": "Python 3",
   "language": "python",
   "name": "python3"
  },
  "language_info": {
   "codemirror_mode": {
    "name": "ipython",
    "version": 2
   },
   "file_extension": ".py",
   "mimetype": "text/x-python",
   "name": "python",
   "nbconvert_exporter": "python",
   "pygments_lexer": "ipython2",
   "version": "2.7.6"
  }
 },
 "nbformat": 4,
 "nbformat_minor": 5
}
